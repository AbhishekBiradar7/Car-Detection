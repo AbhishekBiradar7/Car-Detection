{
 "cells": [
  {
   "cell_type": "code",
   "execution_count": null,
   "id": "a6ac02c3",
   "metadata": {},
   "outputs": [],
   "source": [
    "import cv2\n",
    "\n",
    "cap = cv2.VideoCapture('D:/Project/cars.mp4')\n",
    "\n",
    "car_cascade = cv2.CascadeClassifier('D:/Project/cars.xml')\n",
    "\n",
    "while True:\n",
    "    \n",
    "    ret,frames = cap.read()\n",
    "    \n",
    "    gray = cv2.cvtColor(frames, cv2.COLOR_BGR2GRAY)\n",
    "    \n",
    "    cars = car_cascade.detectMultiScale(gray, 1.1, 1)\n",
    "    \n",
    "    for(x,y,w,h) in cars:\n",
    "        \n",
    "        \n",
    "        cv2.rectangle(frames,(x,y),(x+w,y+h),(0,0,255),2)\n",
    "    \n",
    "    \n",
    "        cv2.imshow('video2',frames)\n",
    "    \n",
    "    if cv2.waitKey(33) == 27:\n",
    "        break\n",
    "\n",
    "cap.release()\n",
    "cv2.destroyAllWindows()\n",
    "    \n",
    "    "
   ]
  },
  {
   "cell_type": "code",
   "execution_count": null,
   "id": "e32fdc87",
   "metadata": {},
   "outputs": [],
   "source": []
  },
  {
   "cell_type": "code",
   "execution_count": null,
   "id": "a903ff49",
   "metadata": {},
   "outputs": [],
   "source": []
  }
 ],
 "metadata": {
  "kernelspec": {
   "display_name": "Python 3",
   "language": "python",
   "name": "python3"
  },
  "language_info": {
   "codemirror_mode": {
    "name": "ipython",
    "version": 3
   },
   "file_extension": ".py",
   "mimetype": "text/x-python",
   "name": "python",
   "nbconvert_exporter": "python",
   "pygments_lexer": "ipython3",
   "version": "3.7.9"
  }
 },
 "nbformat": 4,
 "nbformat_minor": 5
}
